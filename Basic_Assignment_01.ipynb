{
 "cells": [
  {
   "cell_type": "code",
   "execution_count": null,
   "id": "9fe6cb50",
   "metadata": {},
   "outputs": [],
   "source": [
    "1. In the below elements which of them are values or an expression? eg:- values can be integer or string and expressions will be mathematical operators.\n",
    "*\n",
    "hello\n",
    "-87.8\n",
    "-\n",
    "/\n",
    "+\n",
    "6\n",
    "\n",
    "A :-\n",
    " * - expression / operator\n",
    " hello - value\n",
    " -87.8 - value\n",
    " - - expression / operator\n",
    " / - expression / operator\n",
    " + - expression / operator\n",
    " 6 - value\n"
   ]
  },
  {
   "cell_type": "code",
   "execution_count": null,
   "id": "04e61e70",
   "metadata": {},
   "outputs": [],
   "source": [
    "2. What is the difference between string and variable?\n",
    "A : string - A string is a sequence of characters or a set of characters.\n",
    "variable - A variable is a reserved memory location to store the value or it is an entity which hold the value.\n"
   ]
  },
  {
   "cell_type": "code",
   "execution_count": null,
   "id": "618b9566",
   "metadata": {},
   "outputs": [],
   "source": [
    "3. Describe three different data types.\n",
    "-> String - It is a text / sequence of character between \" \".\n",
    "Ex : \"Hello\"\n",
    "-> Integers - It's a whole number\n",
    "Ex : 26\n",
    "-> Floats - It's a decimal number\n",
    "Ex : 1.5"
   ]
  },
  {
   "cell_type": "code",
   "execution_count": null,
   "id": "887592dd",
   "metadata": {},
   "outputs": [],
   "source": [
    "4. What is an expression made up of? What do all expressions do?\n",
    "A : An expression is a combination of operators and operands that is interpreted to produce some other value.\n",
    "It performs some operation based on the operator on the operands."
   ]
  },
  {
   "cell_type": "code",
   "execution_count": null,
   "id": "4cba3f6f",
   "metadata": {},
   "outputs": [],
   "source": [
    "5. This assignment statements, like spam = 10. What is the difference between an expression and a statement?\n",
    "A : An Expression is a combination of values and functions that are combined and interpreted by the compiler to create a new value, as opposed to a Statement which is just a stand-alone unit of execution and doesn't return anything."
   ]
  },
  {
   "cell_type": "code",
   "execution_count": null,
   "id": "0f2fabdd",
   "metadata": {},
   "outputs": [],
   "source": [
    "6. After running the following code, what does the variable bacon contain?\n",
    "bacon = 22 \n",
    "bacon + 1\n",
    "A : bacon = 22"
   ]
  },
  {
   "cell_type": "code",
   "execution_count": null,
   "id": "70ebdfcd",
   "metadata": {},
   "outputs": [],
   "source": [
    "7. What should the values of the following two terms be?\n",
    "'spam'+'spamspam'\n",
    "'spam'*3\n",
    "A : spamspamspam\n",
    "    spamspamspam"
   ]
  },
  {
   "cell_type": "code",
   "execution_count": null,
   "id": "2790c6f4",
   "metadata": {},
   "outputs": [],
   "source": [
    "8. Why is eggs a valid variable name while 100 is invalid?\n",
    "A : Variable names cannot begin with a number it should only contain alpha-numeric characters.Hence eggs is a valid variable name while 100 is invalid."
   ]
  },
  {
   "cell_type": "code",
   "execution_count": null,
   "id": "1ca91d4d",
   "metadata": {},
   "outputs": [],
   "source": [
    "9. What three functions can be used to get the integer, floating-point number, or string version of a value?\n",
    "A : int(value)\n",
    "    float(value)\n",
    "    str(value)"
   ]
  },
  {
   "cell_type": "code",
   "execution_count": null,
   "id": "7b723023",
   "metadata": {},
   "outputs": [],
   "source": [
    "10. Why does this expression cause an error? How can you fix it?\n",
    "'I have eaten' + 99 +  'burritos.'\n",
    "A : 99 is a int, int cannot concatinate with string therefore we need to make 99 as a string by \"99\"."
   ]
  }
 ],
 "metadata": {
  "kernelspec": {
   "display_name": "Python 3 (ipykernel)",
   "language": "python",
   "name": "python3"
  },
  "language_info": {
   "codemirror_mode": {
    "name": "ipython",
    "version": 3
   },
   "file_extension": ".py",
   "mimetype": "text/x-python",
   "name": "python",
   "nbconvert_exporter": "python",
   "pygments_lexer": "ipython3",
   "version": "3.9.7"
  }
 },
 "nbformat": 4,
 "nbformat_minor": 5
}
